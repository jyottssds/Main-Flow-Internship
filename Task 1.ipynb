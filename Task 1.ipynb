{
 "cells": [
  {
   "cell_type": "code",
   "execution_count": 1,
   "id": "9aafbb06",
   "metadata": {},
   "outputs": [
    {
     "name": "stdout",
     "output_type": "stream",
     "text": [
      "Updated Dictionary {'name': 'Jyoti', 'city': 'Delhi', 'gender': 'Female'}\n"
     ]
    }
   ],
   "source": [
    "# Creating a dictionary\n",
    "my_dict = {'name': 'Jyoti', 'age':30, 'city':'Pune'}\n",
    "\n",
    "#adding\n",
    "my_dict['gender'] = 'Female'\n",
    "\n",
    "#removing\n",
    "del my_dict['age']\n",
    "\n",
    "#modifying\n",
    "my_dict ['city'] = 'Delhi'\n",
    "\n",
    "print(\"Updated Dictionary\" , my_dict)"
   ]
  },
  {
   "cell_type": "code",
   "execution_count": 4,
   "id": "65f1720d",
   "metadata": {},
   "outputs": [
    {
     "name": "stdout",
     "output_type": "stream",
     "text": [
      "updated List: [10, 2, 4, 5, 6, 7]\n"
     ]
    }
   ],
   "source": [
    "#Creating a List\n",
    "my_list = [1,2,3,4,5,6]\n",
    "\n",
    "#adding an element in the list\n",
    "my_list.append(7)\n",
    "\n",
    "#removing an element from the list\n",
    "my_list.remove(3)\n",
    "\n",
    "#modifying an element in the list\n",
    "my_list[0] = 10\n",
    "\n",
    "print(\"updated List:\", my_list)"
   ]
  },
  {
   "cell_type": "code",
   "execution_count": 5,
   "id": "c0ed60a2",
   "metadata": {},
   "outputs": [
    {
     "name": "stdout",
     "output_type": "stream",
     "text": [
      "updated Set {2, 4, 5, 6, 11}\n"
     ]
    }
   ],
   "source": [
    "#Creating a Set\n",
    "my_set = {1,2,3,4,5}\n",
    "\n",
    "#adding an element to the set\n",
    "my_set.add(6)\n",
    "\n",
    "#removing an element from the set\n",
    "my_set.remove(3)\n",
    "\n",
    "#modifying an element in the set\n",
    "my_set.discard(1)\n",
    "my_set.add(11)\n",
    "\n",
    "print(\"updated Set\", my_set)"
   ]
  },
  {
   "cell_type": "code",
   "execution_count": null,
   "id": "5800b1f8",
   "metadata": {},
   "outputs": [],
   "source": []
  }
 ],
 "metadata": {
  "kernelspec": {
   "display_name": "Python 3 (ipykernel)",
   "language": "python",
   "name": "python3"
  },
  "language_info": {
   "codemirror_mode": {
    "name": "ipython",
    "version": 3
   },
   "file_extension": ".py",
   "mimetype": "text/x-python",
   "name": "python",
   "nbconvert_exporter": "python",
   "pygments_lexer": "ipython3",
   "version": "3.10.9"
  }
 },
 "nbformat": 4,
 "nbformat_minor": 5
}
